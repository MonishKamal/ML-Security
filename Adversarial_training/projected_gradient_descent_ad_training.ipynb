{
 "cells": [
  {
   "cell_type": "code",
   "execution_count": 1,
   "id": "8c4acdc0-886d-4f02-b6f2-8c9cad42a5a7",
   "metadata": {
    "tags": []
   },
   "outputs": [
    {
     "name": "stdout",
     "output_type": "stream",
     "text": [
      "Defaulting to user installation because normal site-packages is not writeable\n",
      "\u001b[33mWARNING: Ignoring invalid distribution ~vidia-curand-cu12 (/home/sasidharp/.local/lib/python3.11/site-packages)\u001b[0m\u001b[33m\n",
      "\u001b[0m\u001b[33mWARNING: Ignoring invalid distribution ~vidia-curand-cu12 (/home/sasidharp/.local/lib/python3.11/site-packages)\u001b[0m\u001b[33m\n",
      "\u001b[0mRequirement already satisfied: cleverhans==3.1.0 in /home/sasidharp/.local/lib/python3.11/site-packages (3.1.0)\n",
      "Requirement already satisfied: nose in /home/sasidharp/.local/lib/python3.11/site-packages (from cleverhans==3.1.0) (1.3.7)\n",
      "Requirement already satisfied: pycodestyle in /cm/shared/apps/anaconda3/3.11/lib/python3.11/site-packages (from cleverhans==3.1.0) (2.10.0)\n",
      "Requirement already satisfied: scipy in /cm/shared/apps/anaconda3/3.11/lib/python3.11/site-packages (from cleverhans==3.1.0) (1.11.1)\n",
      "Requirement already satisfied: matplotlib in /cm/shared/apps/anaconda3/3.11/lib/python3.11/site-packages (from cleverhans==3.1.0) (3.7.2)\n",
      "Requirement already satisfied: mnist~=0.2 in /home/sasidharp/.local/lib/python3.11/site-packages (from cleverhans==3.1.0) (0.2.2)\n",
      "Requirement already satisfied: numpy in /home/sasidharp/.local/lib/python3.11/site-packages (from cleverhans==3.1.0) (1.26.4)\n",
      "Requirement already satisfied: tensorflow-probability in /home/sasidharp/.local/lib/python3.11/site-packages (from cleverhans==3.1.0) (0.24.0)\n",
      "Requirement already satisfied: joblib in /cm/shared/apps/anaconda3/3.11/lib/python3.11/site-packages (from cleverhans==3.1.0) (1.2.0)\n",
      "Requirement already satisfied: contourpy>=1.0.1 in /cm/shared/apps/anaconda3/3.11/lib/python3.11/site-packages (from matplotlib->cleverhans==3.1.0) (1.0.5)\n",
      "Requirement already satisfied: cycler>=0.10 in /cm/shared/apps/anaconda3/3.11/lib/python3.11/site-packages (from matplotlib->cleverhans==3.1.0) (0.11.0)\n",
      "Requirement already satisfied: fonttools>=4.22.0 in /cm/shared/apps/anaconda3/3.11/lib/python3.11/site-packages (from matplotlib->cleverhans==3.1.0) (4.25.0)\n",
      "Requirement already satisfied: kiwisolver>=1.0.1 in /cm/shared/apps/anaconda3/3.11/lib/python3.11/site-packages (from matplotlib->cleverhans==3.1.0) (1.4.4)\n",
      "Requirement already satisfied: packaging>=20.0 in /cm/shared/apps/anaconda3/3.11/lib/python3.11/site-packages (from matplotlib->cleverhans==3.1.0) (23.1)\n",
      "Requirement already satisfied: pillow>=6.2.0 in /cm/shared/apps/anaconda3/3.11/lib/python3.11/site-packages (from matplotlib->cleverhans==3.1.0) (9.4.0)\n",
      "Requirement already satisfied: pyparsing<3.1,>=2.3.1 in /cm/shared/apps/anaconda3/3.11/lib/python3.11/site-packages (from matplotlib->cleverhans==3.1.0) (3.0.9)\n",
      "Requirement already satisfied: python-dateutil>=2.7 in /cm/shared/apps/anaconda3/3.11/lib/python3.11/site-packages (from matplotlib->cleverhans==3.1.0) (2.8.2)\n",
      "Requirement already satisfied: absl-py in /home/sasidharp/.local/lib/python3.11/site-packages (from tensorflow-probability->cleverhans==3.1.0) (2.1.0)\n",
      "Requirement already satisfied: six>=1.10.0 in /cm/shared/apps/anaconda3/3.11/lib/python3.11/site-packages (from tensorflow-probability->cleverhans==3.1.0) (1.16.0)\n",
      "Requirement already satisfied: decorator in /cm/shared/apps/anaconda3/3.11/lib/python3.11/site-packages (from tensorflow-probability->cleverhans==3.1.0) (5.1.1)\n",
      "Requirement already satisfied: cloudpickle>=1.3 in /cm/shared/apps/anaconda3/3.11/lib/python3.11/site-packages (from tensorflow-probability->cleverhans==3.1.0) (2.2.1)\n",
      "Requirement already satisfied: gast>=0.3.2 in /home/sasidharp/.local/lib/python3.11/site-packages (from tensorflow-probability->cleverhans==3.1.0) (0.6.0)\n",
      "Requirement already satisfied: dm-tree in /home/sasidharp/.local/lib/python3.11/site-packages (from tensorflow-probability->cleverhans==3.1.0) (0.1.8)\n",
      "\u001b[33mWARNING: Ignoring invalid distribution ~vidia-curand-cu12 (/home/sasidharp/.local/lib/python3.11/site-packages)\u001b[0m\u001b[33m\n",
      "\u001b[0m\u001b[33mWARNING: Ignoring invalid distribution ~vidia-curand-cu12 (/home/sasidharp/.local/lib/python3.11/site-packages)\u001b[0m\u001b[33m\n",
      "\u001b[0m\u001b[33mWARNING: Ignoring invalid distribution ~vidia-curand-cu12 (/home/sasidharp/.local/lib/python3.11/site-packages)\u001b[0m\u001b[33m\n",
      "\u001b[0m\u001b[33mWARNING: Ignoring invalid distribution ~vidia-curand-cu12 (/home/sasidharp/.local/lib/python3.11/site-packages)\u001b[0m\u001b[33m\n",
      "\u001b[0m"
     ]
    }
   ],
   "source": [
    "!pip install cleverhans==3.1.0"
   ]
  },
  {
   "cell_type": "code",
   "execution_count": 2,
   "id": "43cf88f1-eb36-4ed6-8b72-19713f02ce66",
   "metadata": {
    "tags": []
   },
   "outputs": [],
   "source": [
    "import torch\n",
    "import numpy as np\n",
    "import torch.nn as nn\n",
    "import torch.optim as optim\n",
    "import torch.nn.functional as F\n",
    "from torchvision import datasets, transforms, models\n",
    "from torch.utils.data import DataLoader\n",
    "from cleverhans.torch.attacks.projected_gradient_descent import projected_gradient_descent"
   ]
  },
  {
   "cell_type": "code",
   "execution_count": 3,
   "id": "ae79a3fc-5789-4532-bdfe-0aa1c25d3ea7",
   "metadata": {
    "tags": []
   },
   "outputs": [],
   "source": [
    "# Load FashionMNIST dataset\n",
    "transform = transforms.Compose([\n",
    "    transforms.ToTensor(),\n",
    "    transforms.Normalize((0.5,), (0.5,))\n",
    "])\n",
    "train_loader = DataLoader(\n",
    "    datasets.FashionMNIST(root='./data', train=True, download=True, transform=transform),\n",
    "    batch_size=64, shuffle=True\n",
    ")\n",
    "test_loader = DataLoader(\n",
    "    datasets.FashionMNIST(root='./data', train=False, download=True, transform=transform),\n",
    "    batch_size=1000, shuffle=False\n",
    ")"
   ]
  },
  {
   "cell_type": "code",
   "execution_count": 4,
   "id": "5d160311-b04b-459a-bac5-725419776589",
   "metadata": {
    "tags": []
   },
   "outputs": [],
   "source": [
    "# Define a ResNet50 model adapted for grayscale images and 10 classes\n",
    "class ResNet50(nn.Module):\n",
    "    def __init__(self):\n",
    "        super(ResNet50, self).__init__()\n",
    "        self.model = models.resnet50(weights=None)  # Use weights=None instead of pretrained=False\n",
    "        # Modify the first conv layer to accept 1-channel input\n",
    "        self.model.conv1 = nn.Conv2d(1, 64, kernel_size=3, stride=1, padding=1, bias=False)\n",
    "        # Remove maxpool layer to reduce spatial downsampling\n",
    "        self.model.maxpool = nn.Identity()\n",
    "        # Modify the fully connected layer to output 10 classes\n",
    "        num_ftrs = self.model.fc.in_features\n",
    "        self.model.fc = nn.Linear(num_ftrs, 10)\n",
    "        \n",
    "    def forward(self, x):\n",
    "        x = self.model(x)\n",
    "        return x"
   ]
  },
  {
   "cell_type": "code",
   "execution_count": 5,
   "id": "1624a6df-a05a-4674-97a0-b733c47ace81",
   "metadata": {
    "tags": []
   },
   "outputs": [
    {
     "name": "stdout",
     "output_type": "stream",
     "text": [
      "Using device: cuda\n"
     ]
    }
   ],
   "source": [
    "# Adversarial training with CleverHans for PGD attack\n",
    "def train(model, device, train_loader, optimizer, epsilon, alpha, num_iters, epoch):\n",
    "    model.train()\n",
    "    total_loss, total_adv_loss = 0, 0\n",
    "    correct, correct_adv = 0, 0\n",
    "    total = 0\n",
    "    \n",
    "    for batch_idx, (data, target) in enumerate(train_loader):\n",
    "        data, target = data.to(device), target.to(device)\n",
    "\n",
    "        # Standard forward pass\n",
    "        optimizer.zero_grad()\n",
    "        output = model(data)\n",
    "        loss = F.cross_entropy(output, target)\n",
    "        total_loss += loss.item()\n",
    "\n",
    "        # Compute accuracy for clean data\n",
    "        pred = output.argmax(dim=1, keepdim=True)\n",
    "        correct += pred.eq(target.view_as(pred)).sum().item()\n",
    "\n",
    "        # Generate adversarial examples using CleverHans PGD\n",
    "        adv_data = projected_gradient_descent(model, data, eps=epsilon, eps_iter=alpha, nb_iter=num_iters, norm=np.inf)\n",
    "        adv_output = model(adv_data)\n",
    "        adv_loss = F.cross_entropy(adv_output, target)\n",
    "        total_adv_loss += adv_loss.item()\n",
    "\n",
    "        # Compute accuracy for adversarial data\n",
    "        adv_pred = adv_output.argmax(dim=1, keepdim=True)\n",
    "        correct_adv += adv_pred.eq(target.view_as(adv_pred)).sum().item()\n",
    "\n",
    "        # Combined loss\n",
    "        total_batch_loss = (loss + adv_loss) / 2\n",
    "\n",
    "        # Backward pass and optimization\n",
    "        total_batch_loss.backward()\n",
    "        optimizer.step()\n",
    "\n",
    "        total += target.size(0)\n",
    "\n",
    "        # Log information for each batch\n",
    "        if batch_idx % 100 == 0:\n",
    "            print(f'Epoch: {epoch+1} [{batch_idx * len(data)}/{len(train_loader.dataset)}] '\n",
    "                  f'Loss: {loss.item():.4f} | Adv Loss: {adv_loss.item():.4f} | '\n",
    "                  f'Acc: {100. * correct / total:.2f}% | Adv Acc: {100. * correct_adv / total:.2f}%')\n",
    "\n",
    "    # Log average loss and accuracy for epoch\n",
    "    avg_loss = total_loss / len(train_loader)\n",
    "    avg_adv_loss = total_adv_loss / len(train_loader)\n",
    "    avg_acc = 100. * correct / total\n",
    "    avg_adv_acc = 100. * correct_adv / total\n",
    "    print(f'==> Epoch: {epoch+1} | Avg Loss: {avg_loss:.4f} | Avg Adv Loss: {avg_adv_loss:.4f} | '\n",
    "          f'Avg Acc: {avg_acc:.2f}% | Avg Adv Acc: {avg_adv_acc:.2f}%')\n",
    "\n",
    "device = torch.device(\"mps\" if torch.backends.mps.is_available() else \"cuda\" if torch.cuda.is_available() else \"cpu\")\n",
    "model = ResNet50().to(device)\n",
    "optimizer = optim.Adam(model.parameters(), lr=0.001)\n",
    "\n",
    "print(f\"Using device: {device}\")"
   ]
  },
  {
   "cell_type": "code",
   "execution_count": 6,
   "id": "60759a82-9148-49af-b0c9-f1890f13a45b",
   "metadata": {
    "tags": []
   },
   "outputs": [
    {
     "name": "stdout",
     "output_type": "stream",
     "text": [
      "Epoch: 1 [0/60000] Loss: 2.5078 | Adv Loss: 2.5573 | Acc: 4.69% | Adv Acc: 6.25%\n",
      "Epoch: 1 [6400/60000] Loss: 5.8380 | Adv Loss: 5.3701 | Acc: 9.95% | Adv Acc: 9.98%\n",
      "Epoch: 1 [12800/60000] Loss: 4.6358 | Adv Loss: 4.4435 | Acc: 9.94% | Adv Acc: 9.96%\n",
      "Epoch: 1 [19200/60000] Loss: 4.0319 | Adv Loss: 3.8973 | Acc: 10.00% | Adv Acc: 10.01%\n",
      "Epoch: 1 [25600/60000] Loss: 3.6543 | Adv Loss: 3.5647 | Acc: 9.98% | Adv Acc: 9.98%\n",
      "Epoch: 1 [32000/60000] Loss: 3.8223 | Adv Loss: 3.7555 | Acc: 10.05% | Adv Acc: 10.06%\n",
      "Epoch: 1 [38400/60000] Loss: 4.1039 | Adv Loss: 4.0061 | Acc: 10.07% | Adv Acc: 10.07%\n",
      "Epoch: 1 [44800/60000] Loss: 3.9773 | Adv Loss: 3.9193 | Acc: 10.10% | Adv Acc: 10.11%\n",
      "Epoch: 1 [51200/60000] Loss: 3.7504 | Adv Loss: 3.6753 | Acc: 10.01% | Adv Acc: 10.01%\n",
      "Epoch: 1 [57600/60000] Loss: 3.8910 | Adv Loss: 3.7905 | Acc: 10.00% | Adv Acc: 10.00%\n",
      "==> Epoch: 1 | Avg Loss: 4.3657 | Avg Adv Loss: 4.1000 | Avg Acc: 10.00% | Avg Adv Acc: 10.01%\n",
      "Epoch 1/5 completed\n",
      "\n",
      "Epoch: 2 [0/60000] Loss: 4.0080 | Adv Loss: 3.9729 | Acc: 7.81% | Adv Acc: 7.81%\n",
      "Epoch: 2 [6400/60000] Loss: 3.8549 | Adv Loss: 3.8033 | Acc: 9.44% | Adv Acc: 9.44%\n",
      "Epoch: 2 [12800/60000] Loss: 3.8478 | Adv Loss: 3.8743 | Acc: 9.86% | Adv Acc: 9.86%\n",
      "Epoch: 2 [19200/60000] Loss: 3.6479 | Adv Loss: 3.6422 | Acc: 10.07% | Adv Acc: 10.07%\n",
      "Epoch: 2 [25600/60000] Loss: 3.5620 | Adv Loss: 3.5862 | Acc: 9.96% | Adv Acc: 9.96%\n",
      "Epoch: 2 [32000/60000] Loss: 4.0736 | Adv Loss: 4.0212 | Acc: 9.91% | Adv Acc: 9.91%\n",
      "Epoch: 2 [38400/60000] Loss: 3.7204 | Adv Loss: 3.7616 | Acc: 9.95% | Adv Acc: 9.95%\n",
      "Epoch: 2 [44800/60000] Loss: 3.5441 | Adv Loss: 3.5972 | Acc: 9.92% | Adv Acc: 9.92%\n",
      "Epoch: 2 [51200/60000] Loss: 3.6509 | Adv Loss: 3.6421 | Acc: 10.01% | Adv Acc: 10.01%\n",
      "Epoch: 2 [57600/60000] Loss: 3.3035 | Adv Loss: 3.2808 | Acc: 10.02% | Adv Acc: 10.02%\n",
      "==> Epoch: 2 | Avg Loss: 3.7454 | Avg Adv Loss: 3.7235 | Avg Acc: 10.00% | Avg Adv Acc: 10.00%\n",
      "Epoch 2/5 completed\n",
      "\n",
      "Epoch: 3 [0/60000] Loss: 3.7979 | Adv Loss: 3.7698 | Acc: 7.81% | Adv Acc: 7.81%\n",
      "Epoch: 3 [6400/60000] Loss: 3.7106 | Adv Loss: 3.7049 | Acc: 9.89% | Adv Acc: 9.89%\n",
      "Epoch: 3 [12800/60000] Loss: 3.7156 | Adv Loss: 3.7223 | Acc: 9.74% | Adv Acc: 9.74%\n",
      "Epoch: 3 [19200/60000] Loss: 3.7009 | Adv Loss: 3.7541 | Acc: 9.88% | Adv Acc: 9.88%\n",
      "Epoch: 3 [25600/60000] Loss: 3.5712 | Adv Loss: 3.6325 | Acc: 10.15% | Adv Acc: 10.15%\n",
      "Epoch: 3 [32000/60000] Loss: 3.9182 | Adv Loss: 3.8748 | Acc: 10.02% | Adv Acc: 10.02%\n",
      "Epoch: 3 [38400/60000] Loss: 3.6170 | Adv Loss: 3.6595 | Acc: 10.17% | Adv Acc: 10.17%\n",
      "Epoch: 3 [44800/60000] Loss: 3.7646 | Adv Loss: 3.7514 | Acc: 10.02% | Adv Acc: 10.02%\n",
      "Epoch: 3 [51200/60000] Loss: 3.6590 | Adv Loss: 3.6645 | Acc: 10.04% | Adv Acc: 10.04%\n",
      "Epoch: 3 [57600/60000] Loss: 3.9442 | Adv Loss: 3.9618 | Acc: 9.97% | Adv Acc: 9.97%\n",
      "==> Epoch: 3 | Avg Loss: 3.6752 | Avg Adv Loss: 3.6720 | Avg Acc: 10.00% | Avg Adv Acc: 10.00%\n",
      "Epoch 3/5 completed\n",
      "\n",
      "Epoch: 4 [0/60000] Loss: 3.6046 | Adv Loss: 3.5173 | Acc: 9.38% | Adv Acc: 9.38%\n",
      "Epoch: 4 [6400/60000] Loss: 3.5370 | Adv Loss: 3.5000 | Acc: 10.47% | Adv Acc: 10.47%\n",
      "Epoch: 4 [12800/60000] Loss: 3.4978 | Adv Loss: 3.4703 | Acc: 10.29% | Adv Acc: 10.29%\n",
      "Epoch: 4 [19200/60000] Loss: 4.0284 | Adv Loss: 4.0186 | Acc: 10.12% | Adv Acc: 10.12%\n",
      "Epoch: 4 [25600/60000] Loss: 3.6433 | Adv Loss: 3.5993 | Acc: 10.22% | Adv Acc: 10.22%\n",
      "Epoch: 4 [32000/60000] Loss: 3.5740 | Adv Loss: 3.6183 | Acc: 10.10% | Adv Acc: 10.10%\n",
      "Epoch: 4 [38400/60000] Loss: 3.7699 | Adv Loss: 3.7378 | Acc: 10.10% | Adv Acc: 10.10%\n",
      "Epoch: 4 [44800/60000] Loss: 3.9910 | Adv Loss: 3.9629 | Acc: 10.00% | Adv Acc: 10.00%\n",
      "Epoch: 4 [51200/60000] Loss: 3.5844 | Adv Loss: 3.6334 | Acc: 9.99% | Adv Acc: 9.99%\n",
      "Epoch: 4 [57600/60000] Loss: 3.4341 | Adv Loss: 3.4037 | Acc: 10.03% | Adv Acc: 10.03%\n",
      "==> Epoch: 4 | Avg Loss: 3.6473 | Avg Adv Loss: 3.6519 | Avg Acc: 10.00% | Avg Adv Acc: 10.00%\n",
      "Epoch 4/5 completed\n",
      "\n",
      "Epoch: 5 [0/60000] Loss: 3.7140 | Adv Loss: 3.7518 | Acc: 12.50% | Adv Acc: 12.50%\n",
      "Epoch: 5 [6400/60000] Loss: 3.7260 | Adv Loss: 3.7901 | Acc: 9.79% | Adv Acc: 9.79%\n",
      "Epoch: 5 [12800/60000] Loss: 3.5634 | Adv Loss: 3.6135 | Acc: 10.19% | Adv Acc: 10.19%\n",
      "Epoch: 5 [19200/60000] Loss: 3.8267 | Adv Loss: 3.8395 | Acc: 10.03% | Adv Acc: 10.03%\n",
      "Epoch: 5 [25600/60000] Loss: 3.5641 | Adv Loss: 3.5797 | Acc: 10.06% | Adv Acc: 10.06%\n",
      "Epoch: 5 [32000/60000] Loss: 3.5458 | Adv Loss: 3.5997 | Acc: 10.10% | Adv Acc: 10.10%\n",
      "Epoch: 5 [38400/60000] Loss: 3.4857 | Adv Loss: 3.4576 | Acc: 10.07% | Adv Acc: 10.07%\n",
      "Epoch: 5 [44800/60000] Loss: 3.5371 | Adv Loss: 3.5239 | Acc: 9.95% | Adv Acc: 9.95%\n",
      "Epoch: 5 [51200/60000] Loss: 3.7261 | Adv Loss: 3.6720 | Acc: 9.98% | Adv Acc: 9.98%\n",
      "Epoch: 5 [57600/60000] Loss: 3.5751 | Adv Loss: 3.6025 | Acc: 9.99% | Adv Acc: 9.99%\n",
      "==> Epoch: 5 | Avg Loss: 3.6290 | Avg Adv Loss: 3.6363 | Avg Acc: 10.00% | Avg Adv Acc: 10.00%\n",
      "Epoch 5/5 completed\n",
      "\n",
      "Adversarial training completed.\n"
     ]
    }
   ],
   "source": [
    "# Training loop\n",
    "epochs = 5\n",
    "epsilon = 0.1  # Maximum perturbation\n",
    "alpha = 0.01   # Step size for each PGD iteration\n",
    "num_iters = 40  # Number of PGD iterations\n",
    "for epoch in range(epochs):\n",
    "    train(model, device, train_loader, optimizer, epsilon, alpha, num_iters, epoch)\n",
    "    print(f\"Epoch {epoch+1}/{epochs} completed\\n\")\n",
    "\n",
    "print(\"Adversarial training completed.\")"
   ]
  },
  {
   "cell_type": "code",
   "execution_count": null,
   "id": "20f39fa4-4460-4a71-9c2c-0a9b5e2fc438",
   "metadata": {},
   "outputs": [],
   "source": []
  }
 ],
 "metadata": {
  "kernelspec": {
   "display_name": "venv",
   "language": "python",
   "name": "venv"
  },
  "language_info": {
   "codemirror_mode": {
    "name": "ipython",
    "version": 3
   },
   "file_extension": ".py",
   "mimetype": "text/x-python",
   "name": "python",
   "nbconvert_exporter": "python",
   "pygments_lexer": "ipython3",
   "version": "3.11.5"
  }
 },
 "nbformat": 4,
 "nbformat_minor": 5
}
